{
 "cells": [
  {
   "cell_type": "markdown",
   "metadata": {},
   "source": [
    "# Introducction\n",
    "\n",
    "## what are in the {{ cookiecutter.project_slug }}_packages and modules and the order of folders?\n",
    "\n",
    "I share the structure of modules to make the code more dinamic, the **utils** module has **get_path.py** a file to obtain the abolute route of directories or files in this project.\n",
    "\n",
    "The funtions:\n",
    "\n",
    "- *make_dir* : make the absolute path \n",
    "- *make_item_list* : return a list with the paths of all files in the folder specified \n",
    "- *make_directorie_list* : return a list with the paths of all directories in the folder specified \n",
    "  \n",
    "you could review the **get_path.py** in the utils directory, feel free to change, update or create new modules in the {{ cookiecutter.project_slug }}_packages directory"
   ]
  },
  {
   "cell_type": "markdown",
   "metadata": {},
   "source": [
    "### Example of use\n",
    "Be sure that your enviroment is activate, then execute the code below\n",
    "\n",
    "```\n",
    "pip install —editable .\n",
    "```\n",
    "\n",
    "Then we need to run this block code in our notebook file before the import packages, with this we don't need to reload the notebook."
   ]
  },
  {
   "cell_type": "code",
   "execution_count": null,
   "metadata": {},
   "outputs": [],
   "source": [
    "%load_ext autoreload\n",
    "%autoreload 2\n",
    "%run pandas-missing-extension.ipynb"
   ]
  },
  {
   "cell_type": "markdown",
   "metadata": {},
   "source": [
    "Then you can use the modules in this template project without problems"
   ]
  },
  {
   "cell_type": "code",
   "execution_count": null,
   "metadata": {},
   "outputs": [
    {
     "ename": "",
     "evalue": "",
     "output_type": "error",
     "traceback": [
      "\u001b[1;31mRunning cells with 'cookiecutter-personal' requires the ipykernel package.\n",
      "\u001b[1;31mRun the following command to install 'ipykernel' into the Python environment. \n",
      "\u001b[1;31mCommand: 'conda install -n cookiecutter-personal ipykernel --update-deps --force-reinstall'"
     ]
    }
   ],
   "source": [
    "\n",
    "import {{cookiecutter.project_slug}}_packages.utils.get_path as path\n",
    "import os\n",
    "#the function get the parent path respect the file where the function is called\n",
    "print(path.make_path())"
   ]
  }
 ],
 "metadata": {
  "interpreter": {
   "hash": "da0733af7d5e633716952d6f8ccf7a258aa98b5642ab14678a50d16c8d42da41"
  },
  "kernelspec": {
   "display_name": "Python 3.8.5 64-bit ('base': conda)",
   "language": "python",
   "name": "python3"
  },
  "language_info": {
   "codemirror_mode": {
    "name": "ipython",
    "version": 3
   },
   "file_extension": ".py",
   "mimetype": "text/x-python",
   "name": "python",
   "nbconvert_exporter": "python",
   "pygments_lexer": "ipython3",
   "version": "3.12.0"
  },
  "orig_nbformat": 4
 },
 "nbformat": 4,
 "nbformat_minor": 2
}
